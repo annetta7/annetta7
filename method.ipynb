{
  "nbformat": 4,
  "nbformat_minor": 0,
  "metadata": {
    "colab": {
      "provenance": [],
      "authorship_tag": "ABX9TyNKAEHYW72vfRtRMxHMmecO",
      "include_colab_link": true
    },
    "kernelspec": {
      "name": "python3",
      "display_name": "Python 3"
    },
    "language_info": {
      "name": "python"
    }
  },
  "cells": [
    {
      "cell_type": "markdown",
      "metadata": {
        "id": "view-in-github",
        "colab_type": "text"
      },
      "source": [
        "<a href=\"https://colab.research.google.com/github/annetta7/annetta7/blob/main/method.ipynb\" target=\"_parent\"><img src=\"https://colab.research.google.com/assets/colab-badge.svg\" alt=\"Open In Colab\"/></a>"
      ]
    },
    {
      "cell_type": "code",
      "execution_count": null,
      "metadata": {
        "colab": {
          "base_uri": "https://localhost:8080/",
          "height": 35
        },
        "id": "Buy2DQjM0Jjv",
        "outputId": "1a8bf1b0-cfab-4a2a-8f57-aa0c7bbc5cb8"
      },
      "outputs": [
        {
          "output_type": "execute_result",
          "data": {
            "text/plain": [
              "'anita muojama'"
            ],
            "application/vnd.google.colaboratory.intrinsic+json": {
              "type": "string"
            }
          },
          "metadata": {},
          "execution_count": 3
        }
      ],
      "source": [
        "my_string = \"anita muojama\"\n",
        "my_string"
      ]
    },
    {
      "cell_type": "code",
      "source": [
        "#Practicing the methods\n",
        "my_string = \"ANITA MUOJAMA\"\n",
        "my_string.lower()\n",
        "\n",
        "my_string = \"anita muojama\"\n",
        "my_string.upper()"
      ],
      "metadata": {
        "colab": {
          "base_uri": "https://localhost:8080/",
          "height": 35
        },
        "id": "W4CY-Ijd1Um3",
        "outputId": "afa77b42-5223-468a-94c5-d95da0a97264"
      },
      "execution_count": null,
      "outputs": [
        {
          "output_type": "execute_result",
          "data": {
            "text/plain": [
              "'ANITA MUOJAMA'"
            ],
            "application/vnd.google.colaboratory.intrinsic+json": {
              "type": "string"
            }
          },
          "metadata": {},
          "execution_count": 7
        }
      ]
    },
    {
      "cell_type": "code",
      "source": [
        "#practicing 'is' in front of the words e.g islower, isuper\n",
        "my_string = \"anita muojama\"\n",
        "my_string.islower()"
      ],
      "metadata": {
        "colab": {
          "base_uri": "https://localhost:8080/"
        },
        "id": "cHeHDriv2AiI",
        "outputId": "990262f2-3742-45ca-ff85-65a97ab8a3dc"
      },
      "execution_count": null,
      "outputs": [
        {
          "output_type": "execute_result",
          "data": {
            "text/plain": [
              "True"
            ]
          },
          "metadata": {},
          "execution_count": 8
        }
      ]
    },
    {
      "cell_type": "code",
      "source": [
        "#is.decimal\n",
        "my_string  = \"9001\"\n",
        "my_string.isdecimal() #returns true because it's a string containing only decimal characters between 0-9\n",
        "\n",
        "my_string = \"hi\"\n",
        "my_string.isdecimal() #returns false because it's a string but does not contain only decimal characters between 0-9\n",
        "\n",
        "my_string = \"45.36\"\n",
        "my_string.isdecimal() #returns false because it contains a dot"
      ],
      "metadata": {
        "colab": {
          "base_uri": "https://localhost:8080/"
        },
        "id": "3nCxmIzP139f",
        "outputId": "fa32a642-7b90-4177-8320-72b3ab240e38"
      },
      "execution_count": null,
      "outputs": [
        {
          "output_type": "execute_result",
          "data": {
            "text/plain": [
              "False"
            ]
          },
          "metadata": {},
          "execution_count": 19
        }
      ]
    },
    {
      "cell_type": "code",
      "source": [
        "#using .split\n",
        "my_string = \"How are you doing?\"\n",
        "my_string.split()\n",
        "\n",
        "#changing the separator to space and setting the maxsplit argumaent to 2\n",
        "my_string.split(' ', 1)  # returns result- ['How', 'are you doing?']\n",
        "my_string.split(' ', 2) # returns result- ['How', 'are', 'you doing?']\n",
        "\n",
        "# notice the number of space increase as the number of split argument increases above\n",
        "\n",
        "\n",
        "#changing separator to dot\n",
        "my_string.split('...', 5)"
      ],
      "metadata": {
        "id": "oWGKPpO75XNB",
        "colab": {
          "base_uri": "https://localhost:8080/"
        },
        "outputId": "b22cb725-336e-436d-a80d-5d051b1e60d4"
      },
      "execution_count": 17,
      "outputs": [
        {
          "output_type": "execute_result",
          "data": {
            "text/plain": [
              "['How are you doing?']"
            ]
          },
          "metadata": {},
          "execution_count": 17
        }
      ]
    },
    {
      "cell_type": "code",
      "source": [
        "#changing to no separator\n",
        "my_string.split(None, 1) #returns result similar to space separator- ['How', 'are you doing?']"
      ],
      "metadata": {
        "colab": {
          "base_uri": "https://localhost:8080/"
        },
        "id": "GsrRXpw3Bftq",
        "outputId": "a76b0559-41ce-4540-a311-cd40d388a517"
      },
      "execution_count": 24,
      "outputs": [
        {
          "output_type": "execute_result",
          "data": {
            "text/plain": [
              "['How', 'are you doing?']"
            ]
          },
          "metadata": {},
          "execution_count": 24
        }
      ]
    },
    {
      "cell_type": "code",
      "source": [
        "#practicing string method\n",
        "verse = \"If you can keep your head when all about you\\n  Are losing theirs and blaming it on you,\\nIf you can trust yourself when all men doubt you,\\n  But make allowance for their doubting too;\\nIf you can wait and not be tired by waiting,\\n  Or being lied about, don’t deal in lies,\\nOr being hated, don’t give way to hating,\\n  And yet don’t look too good, nor talk too wise:\"\n",
        "#What is the length of the string variable verse?\n",
        "length = (len(verse))\n",
        "length\n",
        "#What is the index of the first occurrence of the word 'and' in verse?\n",
        "f_index = verse.index('and')\n",
        "f_index\n",
        "#What is the index of the last occurrence of the word 'you' in verse?\n",
        "l_index = verse.rindex('you')\n",
        "l_index\n",
        "#What is the count of occurrences of the word 'you' in the verse?\n",
        "count = verse.count('you')\n",
        "count\n",
        "result = \"The length of 'verse' is {},\\nthe index of the first occurrence is {},\\nthe index of the last ocurrence is {},\\nthe count of occurrences is {}.\".format(length, f_index, l_index, count)\n",
        "print(result)\n",
        "\n"
      ],
      "metadata": {
        "colab": {
          "base_uri": "https://localhost:8080/"
        },
        "id": "pdTg7-VXCLzL",
        "outputId": "60409833-932f-4584-baba-d2e42386d36e"
      },
      "execution_count": 50,
      "outputs": [
        {
          "output_type": "stream",
          "name": "stdout",
          "text": [
            "The length of 'verse' is 362,\n",
            "the index of the first occurrence is 65,\n",
            "the index of the last ocurrence is 186,\n",
            "the count of occurrences is 8.\n"
          ]
        }
      ]
    },
    {
      "cell_type": "code",
      "source": [
        "#another way to answer the questions using .find to replace .index\n",
        "verse = \"If you can keep your head when all about you\\n  Are losing theirs and blaming it on you,\\nIf you can trust yourself when all men doubt you,\\n  But make allowance for their doubting too;\\nIf you can wait and not be tired by waiting,\\n  Or being lied about, don’t deal in lies,\\nOr being hated, don’t give way to hating,\\n  And yet don’t look too good, nor talk too wise:\"\n",
        "print(\"The string variable 'verse' has {} characters.\".format(len(verse)))\n",
        "print(\"The first occurrence of the word 'and' occurs at the {}th index.\".format(verse.find('and')))\n",
        "print(\"The last occurrence of the word 'you' occurs at the {}th index.\".format(verse.rfind('you')))\n",
        "print(\"The word 'you' appeared {} times in the verse.\".format(verse.count('you')))\n"
      ],
      "metadata": {
        "colab": {
          "base_uri": "https://localhost:8080/"
        },
        "id": "wme9PNOFIV1Y",
        "outputId": "321023ed-f333-4aaa-b9cb-0902aa481cdf"
      },
      "execution_count": 60,
      "outputs": [
        {
          "output_type": "stream",
          "name": "stdout",
          "text": [
            "The string variable 'verse' has 362 characters.\n",
            "The first occurrence of the word 'and' occurs at the 65th index.\n",
            "The last occurrence of the word 'you' occurs at the 186th index.\n",
            "The word 'you' appeared 8 times in the verse.\n"
          ]
        }
      ]
    },
    {
      "cell_type": "code",
      "source": [
        "#a third option\n",
        "verse = \"If you can keep your head when all about you\\n  Are losing theirs and blaming it on you,\\nIf you can trust yourself when all men doubt you,\\n  But make allowance for their doubting too;\\nIf you can wait and not be tired by waiting,\\n  Or being lied about, don’t deal in lies,\\nOr being hated, don’t give way to hating,\\n  And yet don’t look too good, nor talk too wise:\"\n",
        "print(verse, \"\\n\") #the \\n is attached todemarcate the first from the second sentence.\n",
        "\n",
        "message = \"Verse has a length of {} characters.\\nThe first occurence of the \\\n",
        "word 'and' occurs at the {}th index.\\nThe last occurence of the word 'you' \\\n",
        "occurs at the {}th index.\\nThe word 'you' occurs {} times in the verse.\"\n",
        "\n",
        "length = len(verse)\n",
        "first_idx = verse.find('and')\n",
        "last_idx = verse.rfind('you')\n",
        "count = verse.count('you')\n",
        "\n",
        "print(message.format(length, first_idx, last_idx, count))"
      ],
      "metadata": {
        "colab": {
          "base_uri": "https://localhost:8080/"
        },
        "id": "Pmp2AynNOh4v",
        "outputId": "c55544d5-fce8-4919-8cb5-0f4c3276d858"
      },
      "execution_count": 62,
      "outputs": [
        {
          "output_type": "stream",
          "name": "stdout",
          "text": [
            "If you can keep your head when all about you\n",
            "  Are losing theirs and blaming it on you,\n",
            "If you can trust yourself when all men doubt you,\n",
            "  But make allowance for their doubting too;\n",
            "If you can wait and not be tired by waiting,\n",
            "  Or being lied about, don’t deal in lies,\n",
            "Or being hated, don’t give way to hating,\n",
            "  And yet don’t look too good, nor talk too wise: \n",
            "\n",
            "Verse has a length of 362 characters.\n",
            "The first occurence of the word 'and' occurs at the 65th index.\n",
            "The last occurence of the word 'you' occurs at the 186th index.\n",
            "The word 'you' occurs 8 times in the verse.\n"
          ]
        }
      ]
    },
    {
      "cell_type": "code",
      "source": [
        "# writing an f-string\n",
        "name = \"Anita\"\n",
        "age = 30\n",
        "country = \"United States\"\n",
        "print(f\"My name is {name}, \\nI am {age} years old, \\nI am from {country}.\")"
      ],
      "metadata": {
        "colab": {
          "base_uri": "https://localhost:8080/"
        },
        "id": "ynxHkoBWTZZJ",
        "outputId": "97d96382-d92e-4e96-ad09-45cca6e9a06f"
      },
      "execution_count": 69,
      "outputs": [
        {
          "output_type": "stream",
          "name": "stdout",
          "text": [
            "My name is Anita, \n",
            "I am 30 years old, \n",
            "I am from United States.\n"
          ]
        }
      ]
    }
  ]
}